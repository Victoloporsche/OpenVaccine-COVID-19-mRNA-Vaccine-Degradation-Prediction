{
 "cells": [
  {
   "cell_type": "code",
   "execution_count": 1,
   "metadata": {},
   "outputs": [],
   "source": [
    "from main import Main\n",
    "import pandas as pd"
   ]
  },
  {
   "cell_type": "code",
   "execution_count": 2,
   "metadata": {},
   "outputs": [],
   "source": [
    "train = pd.read_csv('../output/train_cleaned.csv')\n",
    "test = pd.read_csv('../output/test_cleaned.csv')"
   ]
  },
  {
   "cell_type": "code",
   "execution_count": 3,
   "metadata": {},
   "outputs": [],
   "source": [
    "open_vaccine_predictor = Main(train, test, 'id_seqpos', 'reactivity', \n",
    "                                         'deg_Mg_pH10', 'deg_pH10', 'deg_Mg_50C', 'deg_50C')"
   ]
  },
  {
   "cell_type": "code",
   "execution_count": 5,
   "metadata": {},
   "outputs": [
    {
     "name": "stdout",
     "output_type": "stream",
     "text": [
      "Kfold cross validation for RandomForestRegressor\n",
      "CV results saved to:  ../output/cv_results/randomforestregressor.csv\n",
      "\n",
      "Kfold cross validation for ExtraTreesRegressor\n",
      "CV results saved to:  ../output/cv_results/extratreesregressor.csv\n",
      "\n",
      "Kfold cross validation for MLPRegressor\n",
      "CV results saved to:  ../output/cv_results/mlpregressor.csv\n",
      "\n"
     ]
    }
   ],
   "source": [
    "perform_kfold_cv = open_vaccine_predictor.cross_validation()"
   ]
  },
  {
   "cell_type": "code",
   "execution_count": 6,
   "metadata": {},
   "outputs": [
    {
     "name": "stdout",
     "output_type": "stream",
     "text": [
      "RandomForestRegressor cross validation accuracy is -0.000\n",
      "ExtraTreesRegressor cross validation accuracy is -0.000\n",
      "MLPRegressor cross validation accuracy is -0.001\n"
     ]
    }
   ],
   "source": [
    "show_kfold_cv_result = open_vaccine_predictor.show_cross_validation_result()"
   ]
  },
  {
   "cell_type": "code",
   "execution_count": 7,
   "metadata": {},
   "outputs": [],
   "source": [
    "training_open_vaccine_predictor = open_vaccine_predictor.model_training()"
   ]
  },
  {
   "cell_type": "code",
   "execution_count": 8,
   "metadata": {},
   "outputs": [],
   "source": [
    "predict_open_vaccine_sequence = open_vaccine_predictor.model_prediction()"
   ]
  },
  {
   "cell_type": "code",
   "execution_count": 9,
   "metadata": {},
   "outputs": [],
   "source": [
    "submission_data = pd.concat([test['id_seqpos'], predict_open_vaccine_sequence], axis=1)"
   ]
  },
  {
   "cell_type": "code",
   "execution_count": 10,
   "metadata": {},
   "outputs": [],
   "source": [
    "submission_data.to_csv('../output/submission_open_vaccine_predictor.csv')"
   ]
  },
  {
   "cell_type": "code",
   "execution_count": null,
   "metadata": {},
   "outputs": [],
   "source": []
  }
 ],
 "metadata": {
  "kernelspec": {
   "display_name": "Python 3",
   "language": "python",
   "name": "python3"
  },
  "language_info": {
   "codemirror_mode": {
    "name": "ipython",
    "version": 3
   },
   "file_extension": ".py",
   "mimetype": "text/x-python",
   "name": "python",
   "nbconvert_exporter": "python",
   "pygments_lexer": "ipython3",
   "version": "3.6.5"
  }
 },
 "nbformat": 4,
 "nbformat_minor": 4
}
