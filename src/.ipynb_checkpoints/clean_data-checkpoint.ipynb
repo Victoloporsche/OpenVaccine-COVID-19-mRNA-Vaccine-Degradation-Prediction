{
 "cells": [
  {
   "cell_type": "code",
   "execution_count": 14,
   "metadata": {},
   "outputs": [],
   "source": [
    "import pandas as pd\n",
    "import numpy as np "
   ]
  },
  {
   "cell_type": "code",
   "execution_count": 15,
   "metadata": {},
   "outputs": [],
   "source": [
    "train_data = pd.read_json('../input/train.json', lines=True, )\n",
    "test_data = pd.read_json('../input/test.json', lines=True)"
   ]
  },
  {
   "cell_type": "code",
   "execution_count": 16,
   "metadata": {},
   "outputs": [],
   "source": [
    "train_data['sequence'] = train_data.sequence.apply(list)\n",
    "train_data['predicted_loop_type'] = train_data.predicted_loop_type.apply(list)\n",
    "train_data['structure'] = train_data.structure.apply(list)"
   ]
  },
  {
   "cell_type": "code",
   "execution_count": 17,
   "metadata": {},
   "outputs": [],
   "source": [
    "train_explode_column_list = ['predicted_loop_type', 'reactivity_error', 'deg_error_Mg_pH10', 'deg_error_pH10', 'deg_error_Mg_50C', 'deg_error_50C',\n",
    "               'reactivity', 'deg_Mg_pH10', 'deg_pH10', 'deg_Mg_50C', 'deg_50C', 'sequence', 'structure']"
   ]
  },
  {
   "cell_type": "code",
   "execution_count": 18,
   "metadata": {},
   "outputs": [],
   "source": [
    "def explode_column_with_list(df, column_to_explode):\n",
    "    df_index = df.index.repeat(df[column_to_explode[0]].str.len())\n",
    "    data = pd.concat([\n",
    "        pd.DataFrame({x: np.concatenate(df[x].values)}) for x in column_to_explode], axis=1)\n",
    "    data.index = df_index\n",
    "    return data.join(df.drop(column_to_explode, 1), how='left')"
   ]
  },
  {
   "cell_type": "code",
   "execution_count": 19,
   "metadata": {},
   "outputs": [],
   "source": [
    "train_data = explode_column_with_list(train_data, train_explode_column_list)"
   ]
  },
  {
   "cell_type": "code",
   "execution_count": 20,
   "metadata": {},
   "outputs": [],
   "source": [
    "train_data['id_seqpos'] = (train_data['id'] + '_' + train_data['index'].map(str))\n",
    "train_data = train_data.drop(['id', 'index'], axis=1)"
   ]
  },
  {
   "cell_type": "code",
   "execution_count": 21,
   "metadata": {},
   "outputs": [],
   "source": [
    "train_data = train_data[['id_seqpos', 'sequence', 'predicted_loop_type', 'structure', 'seq_length', 'seq_scored', \n",
    "                        'reactivity', 'deg_Mg_pH10', 'deg_pH10', 'deg_Mg_50C', 'deg_50C']]"
   ]
  },
  {
   "cell_type": "code",
   "execution_count": 22,
   "metadata": {},
   "outputs": [],
   "source": [
    "train_data = train_data.dropna()"
   ]
  },
  {
   "cell_type": "code",
   "execution_count": 23,
   "metadata": {},
   "outputs": [],
   "source": [
    "train_data.to_csv('train_cleaned.csv')"
   ]
  },
  {
   "cell_type": "code",
   "execution_count": 24,
   "metadata": {},
   "outputs": [],
   "source": [
    "test_data['sequence'] = test_data.sequence.apply(list)\n",
    "test_data['predicted_loop_type'] = test_data.predicted_loop_type.apply(list)\n",
    "test_data['structure'] = test_data.structure.apply(list)"
   ]
  },
  {
   "cell_type": "code",
   "execution_count": 25,
   "metadata": {},
   "outputs": [],
   "source": [
    "test_explode_column_list = ['sequence', 'predicted_loop_type', 'structure']"
   ]
  },
  {
   "cell_type": "code",
   "execution_count": 26,
   "metadata": {},
   "outputs": [],
   "source": [
    "test_data = explode_column_with_list(test_data, test_explode_column_list)"
   ]
  },
  {
   "cell_type": "code",
   "execution_count": 27,
   "metadata": {},
   "outputs": [],
   "source": [
    "test_data['id_seqpos'] = (test_data['id'] + '_' + test_data['index'].map(str))\n",
    "test_data = test_data.drop(['id', 'index'], axis=1)"
   ]
  },
  {
   "cell_type": "code",
   "execution_count": null,
   "metadata": {},
   "outputs": [],
   "source": []
  }
 ],
 "metadata": {
  "kernelspec": {
   "display_name": "Python 3",
   "language": "python",
   "name": "python3"
  },
  "language_info": {
   "codemirror_mode": {
    "name": "ipython",
    "version": 3
   },
   "file_extension": ".py",
   "mimetype": "text/x-python",
   "name": "python",
   "nbconvert_exporter": "python",
   "pygments_lexer": "ipython3",
   "version": "3.6.5"
  }
 },
 "nbformat": 4,
 "nbformat_minor": 4
}
